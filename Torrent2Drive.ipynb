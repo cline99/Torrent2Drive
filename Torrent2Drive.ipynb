{
  "nbformat": 4,
  "nbformat_minor": 2,
  "metadata": {
    "colab": {
      "name": "Torrent To Google Drive Downloader",
      "provenance": [],
      "collapsed_sections": []
    },
    "kernelspec": {
      "name": "python3",
      "display_name": "Python 3.8.10 64-bit ('base': conda)"
    },
    "widgets": {
      "application/vnd.jupyter.widget-state+json": {
        "52cd056d2e124b58903106a4edd83957": {
          "model_module": "@jupyter-widgets/controls",
          "model_name": "FloatSliderModel",
          "model_module_version": "1.5.0",
          "state": {
            "_view_name": "FloatSliderView",
            "style": "IPY_MODEL_7612b71ee2484c438e30c90a314dc9b5",
            "_dom_classes": [],
            "description": "Shang-Chi and the Legend of the Ten Rings 2021 BluRay.x264 2330.599 kB/s downloading",
            "step": 0.01,
            "_model_name": "FloatSliderModel",
            "orientation": "horizontal",
            "max": 100,
            "_view_module": "@jupyter-widgets/controls",
            "_model_module_version": "1.5.0",
            "value": 99.97040033340454,
            "_view_count": null,
            "disabled": true,
            "_view_module_version": "1.5.0",
            "min": 0,
            "continuous_update": true,
            "readout_format": ".2f",
            "description_tooltip": null,
            "readout": true,
            "_model_module": "@jupyter-widgets/controls",
            "layout": "IPY_MODEL_5efdf6c2fe1840f6a7c7618236798d31"
          }
        },
        "7612b71ee2484c438e30c90a314dc9b5": {
          "model_module": "@jupyter-widgets/controls",
          "model_name": "SliderStyleModel",
          "model_module_version": "1.5.0",
          "state": {
            "_view_name": "StyleView",
            "handle_color": null,
            "_model_name": "SliderStyleModel",
            "description_width": "initial",
            "_view_module": "@jupyter-widgets/base",
            "_model_module_version": "1.5.0",
            "_view_count": null,
            "_view_module_version": "1.2.0",
            "_model_module": "@jupyter-widgets/controls"
          }
        },
        "5efdf6c2fe1840f6a7c7618236798d31": {
          "model_module": "@jupyter-widgets/base",
          "model_name": "LayoutModel",
          "model_module_version": "1.2.0",
          "state": {
            "_view_name": "LayoutView",
            "grid_template_rows": null,
            "right": null,
            "justify_content": null,
            "_view_module": "@jupyter-widgets/base",
            "overflow": null,
            "_model_module_version": "1.2.0",
            "_view_count": null,
            "flex_flow": null,
            "width": "auto",
            "min_width": null,
            "border": null,
            "align_items": null,
            "bottom": null,
            "_model_module": "@jupyter-widgets/base",
            "top": null,
            "grid_column": null,
            "overflow_y": null,
            "overflow_x": null,
            "grid_auto_flow": null,
            "grid_area": null,
            "grid_template_columns": null,
            "flex": null,
            "_model_name": "LayoutModel",
            "justify_items": null,
            "grid_row": null,
            "max_height": null,
            "align_content": null,
            "visibility": null,
            "align_self": null,
            "height": null,
            "min_height": null,
            "padding": null,
            "grid_auto_rows": null,
            "grid_gap": null,
            "max_width": null,
            "order": null,
            "_view_module_version": "1.2.0",
            "grid_template_areas": null,
            "object_position": null,
            "object_fit": null,
            "grid_auto_columns": null,
            "margin": null,
            "display": null,
            "left": null
          }
        }
      }
    },
    "language_info": {
      "name": "python",
      "version": "3.8.10",
      "mimetype": "text/x-python",
      "codemirror_mode": {
        "name": "ipython",
        "version": 3
      },
      "pygments_lexer": "ipython3",
      "nbconvert_exporter": "python",
      "file_extension": ".py"
    },
    "interpreter": {
      "hash": "14ba09eb911a6d5a016116adb8e8ac0a3edaee927e51bf4c5254fb9906a8e27a"
    }
  },
  "cells": [
    {
      "cell_type": "markdown",
      "source": [
        "# Torrent To Google Drive Downloader "
      ],
      "metadata": {
        "id": "aQuWDmfm9YOi"
      }
    },
    {
      "cell_type": "code",
      "execution_count": null,
      "source": [
        "!python -m pip install --upgrade pip setuptools wheel\r\n",
        "!python -m pip install lbry-libtorrent\r\n",
        "!apt install python3-libtorrent\r\n",
        "\r\n",
        "import libtorrent as lt\r\n",
        "\r\n",
        "ses = lt.session()\r\n",
        "ses.listen_on(6881, 6891)\r\n",
        "downloads = []"
      ],
      "outputs": [],
      "metadata": {
        "id": "m6hF0emftx4h",
        "colab": {
          "base_uri": "https://localhost:8080/"
        },
        "outputId": "364fa7e4-1ce6-483a-fa3f-8c1d927aba6e"
      }
    },
    {
      "cell_type": "markdown",
      "source": [
        "### Mount Google Drive\n",
        "To stream files we need to mount Google Drive."
      ],
      "metadata": {
        "id": "Uf90U73y9YOj"
      }
    },
    {
      "cell_type": "code",
      "execution_count": null,
      "source": [
        "from google.colab import drive\r\n",
        "\r\n",
        "drive.mount(\"/content/drive\")"
      ],
      "outputs": [],
      "metadata": {
        "id": "oWM9l2fvtuvO",
        "colab": {
          "base_uri": "https://localhost:8080/"
        },
        "outputId": "94ec909b-c4c8-44e1-e3eb-a8238f5be9da"
      }
    },
    {
      "cell_type": "markdown",
      "source": [
        "### Add From Torrent File\n",
        "You can run this cell to add more files as many times as you want"
      ],
      "metadata": {
        "id": "R_1XuuIf9YOn"
      }
    },
    {
      "cell_type": "code",
      "execution_count": null,
      "source": [
        "from google.colab import files\r\n",
        "\r\n",
        "source = files.upload()\r\n",
        "params = {\r\n",
        "    \"save_path\": \"/content/drive/My Drive/Torrent\",\r\n",
        "    \"ti\": lt.torrent_info(list(source.keys())[0]),\r\n",
        "}\r\n",
        "downloads.append(ses.add_torrent(params))"
      ],
      "outputs": [],
      "metadata": {
        "id": "0et2A6N3udA0"
      }
    },
    {
      "cell_type": "markdown",
      "source": [
        "### Add From Magnet Link\n",
        "You can run this cell to add more files as many times as you want"
      ],
      "metadata": {
        "id": "WD-6M6eZyzmj"
      }
    },
    {
      "cell_type": "code",
      "execution_count": null,
      "source": [
        "params = {\"save_path\": \"/content/drive/My Drive/Torrent\"}\r\n",
        "\r\n",
        "while True:\r\n",
        "    magnet_link = input(\"Enter Magnet Link Or Type Exit: \")\r\n",
        "    if magnet_link.lower() == \"exit\":\r\n",
        "        break\r\n",
        "    downloads.append(\r\n",
        "        lt.add_magnet_uri(ses, magnet_link, params)\r\n",
        "    )\r\n"
      ],
      "outputs": [],
      "metadata": {
        "id": "Cwi1GMlxy3te",
        "colab": {
          "base_uri": "https://localhost:8080/"
        },
        "outputId": "22ebb7b0-1572-40a4-cdf5-6e8bac1ac24c"
      }
    },
    {
      "cell_type": "markdown",
      "source": [
        "### Start Download\r\n"
      ],
      "metadata": {
        "id": "m-a1CUP39YOu"
      }
    },
    {
      "cell_type": "code",
      "execution_count": null,
      "source": [
        "import time\r\n",
        "from IPython.display import display\r\n",
        "import ipywidgets as widgets\r\n",
        "\r\n",
        "state_str = [\r\n",
        "    \"queued\",\r\n",
        "    \"checking\",\r\n",
        "    \"downloading metadata\",\r\n",
        "    \"downloading\",\r\n",
        "    \"finished\",\r\n",
        "    \"seeding\",\r\n",
        "    \"allocating\",\r\n",
        "    \"checking fastresume\",\r\n",
        "]\r\n",
        "\r\n",
        "layout = widgets.Layout(width=\"auto\")\r\n",
        "style = {\"description_width\": \"initial\"}\r\n",
        "download_bars = [\r\n",
        "    widgets.FloatSlider(\r\n",
        "        step=0.01, disabled=True, layout=layout, style=style\r\n",
        "    )\r\n",
        "    for _ in downloads\r\n",
        "]\r\n",
        "display(*download_bars)\r\n",
        "\r\n",
        "while downloads:\r\n",
        "    next_shift = 0\r\n",
        "    for index, download in enumerate(downloads[:]):\r\n",
        "        bar = download_bars[index + next_shift]\r\n",
        "        if not download.is_seed():\r\n",
        "            s = download.status()\r\n",
        "\r\n",
        "            bar.description = \" \".join(\r\n",
        "                [\r\n",
        "                    download.name(),\r\n",
        "                    str(s.download_rate / 1000),\r\n",
        "                    \"kB/s\",\r\n",
        "                    state_str[s.state],\r\n",
        "                ]\r\n",
        "            )\r\n",
        "            bar.value = s.progress * 100\r\n",
        "        else:\r\n",
        "            next_shift -= 1\r\n",
        "            ses.remove_torrent(download)\r\n",
        "            downloads.remove(download)\r\n",
        "            bar.close()\r\n",
        "            download_bars.remove(bar)\r\n",
        "            print(download.name(), \"complete\")\r\n",
        "    time.sleep(1)\r\n"
      ],
      "outputs": [],
      "metadata": {
        "id": "DBNoYYoSuDBT",
        "colab": {
          "base_uri": "https://localhost:8080/",
          "height": 34,
          "referenced_widgets": [
            "52cd056d2e124b58903106a4edd83957",
            "7612b71ee2484c438e30c90a314dc9b5",
            "5efdf6c2fe1840f6a7c7618236798d31"
          ]
        },
        "outputId": "cdcd3af0-f894-4679-b05b-f4cdc5a2f705"
      }
    },
    {
      "cell_type": "code",
      "execution_count": null,
      "source": [],
      "outputs": [],
      "metadata": {
        "id": "hD6fatuedRUE"
      }
    }
  ]
}